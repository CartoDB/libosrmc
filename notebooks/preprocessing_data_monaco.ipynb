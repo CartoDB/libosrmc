{
 "cells": [
  {
   "cell_type": "markdown",
   "metadata": {},
   "source": [
    "# Preprocessing pipeline to generate test data: Monaco (little dataset)"
   ]
  },
  {
   "cell_type": "code",
   "execution_count": null,
   "metadata": {},
   "outputs": [],
   "source": [
    "%%bash\n",
    "DATA_DIR=/usr/local/app/data\n",
    "\n",
    "rm -rf $DATA_DIR/test_monaco\n",
    "mkdir $DATA_DIR/test_monaco\n",
    "cd $DATA_DIR/test_monaco\n",
    "\n",
    "echo '--Downloading OSM file...'\n",
    "wget http://download.geofabrik.de/europe/monaco-latest.osm.pbf\n",
    "\n",
    "echo '--Processing - osm-extract...'\n",
    "osrm-extract --profile=/usr/local/share/osrm/profiles/car.lua monaco-latest.osm.pbf\n",
    "\n",
    "echo '--Processing - osm-partition...'\n",
    "osrm-partition monaco-latest.osrm\n",
    "\n",
    "echo '--Processing - osm-customize...'\n",
    "osrm-customize monaco-latest.osrm\n",
    "\n",
    "echo '--Processing - osrm-contract...'\n",
    "osrm-contract monaco-latest.osrm"
   ]
  },
  {
   "cell_type": "code",
   "execution_count": null,
   "metadata": {},
   "outputs": [],
   "source": []
  }
 ],
 "metadata": {
  "kernelspec": {
   "display_name": "Python 3",
   "language": "python",
   "name": "python3"
  },
  "language_info": {
   "codemirror_mode": {
    "name": "ipython",
    "version": 3
   },
   "file_extension": ".py",
   "mimetype": "text/x-python",
   "name": "python",
   "nbconvert_exporter": "python",
   "pygments_lexer": "ipython3",
   "version": "3.6.7"
  }
 },
 "nbformat": 4,
 "nbformat_minor": 2
}
