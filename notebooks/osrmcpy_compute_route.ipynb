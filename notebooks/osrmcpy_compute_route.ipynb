{
 "cells": [
  {
   "cell_type": "markdown",
   "metadata": {},
   "source": [
    "# Example: compute route (point to point)"
   ]
  },
  {
   "cell_type": "code",
   "execution_count": 1,
   "metadata": {},
   "outputs": [],
   "source": [
    "import os\n",
    "import sys\n",
    "import random\n",
    "\n",
    "import numpy as np\n",
    "import pandas as pd\n",
    "\n",
    "from osrmcpy import OSRM, Coordinate"
   ]
  },
  {
   "cell_type": "code",
   "execution_count": 2,
   "metadata": {},
   "outputs": [],
   "source": [
    "DATA_DIR = '/usr/local/app/data'\n",
    "OSRM_DATASET = os.path.join(DATA_DIR, 'test_ireland', 'ireland-and-northern-ireland-latest.osrm')"
   ]
  },
  {
   "cell_type": "code",
   "execution_count": 3,
   "metadata": {},
   "outputs": [],
   "source": [
    "osrm = OSRM(OSRM_DATASET.encode('utf-8'), contraction=True)"
   ]
  },
  {
   "cell_type": "code",
   "execution_count": 4,
   "metadata": {},
   "outputs": [],
   "source": [
    "start = Coordinate(id=None, longitude=-6.278496849370723, latitude=53.321071624603135)\n",
    "end = Coordinate(id=None, longitude=-6.462316552050708, latitude=53.31210678760515)"
   ]
  },
  {
   "cell_type": "code",
   "execution_count": 5,
   "metadata": {},
   "outputs": [],
   "source": [
    "csv_path = 'geometries_output.csv'"
   ]
  },
  {
   "cell_type": "code",
   "execution_count": 6,
   "metadata": {},
   "outputs": [
    {
     "name": "stdout",
     "output_type": "stream",
     "text": [
      "CPU times: user 6.41 ms, sys: 2.03 ms, total: 8.44 ms\n",
      "Wall time: 6.8 ms\n"
     ]
    }
   ],
   "source": [
    "%time route = osrm.route([start, end], csv_path.encode('utf-8'))"
   ]
  },
  {
   "cell_type": "code",
   "execution_count": 7,
   "metadata": {},
   "outputs": [
    {
     "data": {
      "text/plain": [
       "15571.7998046875"
      ]
     },
     "execution_count": 7,
     "metadata": {},
     "output_type": "execute_result"
    }
   ],
   "source": [
    "route.distance"
   ]
  },
  {
   "cell_type": "code",
   "execution_count": 8,
   "metadata": {},
   "outputs": [
    {
     "data": {
      "text/plain": [
       "1183.0999755859375"
      ]
     },
     "execution_count": 8,
     "metadata": {},
     "output_type": "execute_result"
    }
   ],
   "source": [
    "route.duration"
   ]
  },
  {
   "cell_type": "code",
   "execution_count": 9,
   "metadata": {},
   "outputs": [
    {
     "data": {
      "text/plain": [
       "b'mhmdItgie@BpB@TB?b@xAn@|ATh@LJLDJ?d@W\\\\rAFTr@nCNf@b@S`@SHM`@_A\\\\l@RZvA|Bl@`An@dAFXh@jEJ|ABr@DpB@hACjACnAC^Mn@Qv@K`@u@hDSv@Un@Un@_AjB]p@Q^wAlCUd@S^Ud@CFYj@INKTCFILABYf@o@bAwA~BGHcArACDm@v@e@d@aBbBYXQPm@h@g@^KFk@^sAt@wCfBLf@FLPRGd@Id@[jBIj@Ib@e@rCIb@G^SzBGfA?b@Ah@?lADvBDbEQlHAr@MbECjAOhFKhEGlBEpAGxB@r@H|GB~AFpCBvBDfBHvBTzDPdCDtBArAMnBIv@E`@ANGJQRMDFZPz@PxAJfAHfD@~@JpFD|B@NPjE?P@JBn@Bv@J|B`@zFJjAXjDRxB@NHvADdAPbGBtABh@@f@?J@V@j@FnL@PBtFBzB?~@@hAB|B@dCDjD@vB@~@HfOJtN@vAH|L@~AFtGFfGHlHLdH@t@HhAHzAnA~EFTFRT`AzDpOZlAxAtF~CdMjCzJzAtFPp@`@xAHXJb@DLFZFVHRJTFLJNHJVRXVLLJPJPLZJb@H`@F\\\\Hh@Db@@X@V?RA^AZCb@CZCb@?^?f@Br@BZH|@jAtKVpB@HBRl@~EPxAbAxHbAvGf@hDn@bETtAp@bExAnIv@jFzBnMhBlKp@bEf@fDP`BFb@T|BLlAZjELhB\\\\bHN|BRrBTvBZxBh@zCd@vBd@hBX`ATp@t@tB|@vBtB`EbD|FjFpJfArB`AvBrAlDlB`FnDrM`D~L`EhKZf@`@`@^Pf@LL@TBb@FZFp@ZTRZPJMLGL?NBLLJRDNBR@RAPCREPGNKHIFI@ONMV}AtDsBlFmAjDKj@Ar@DZ@TAVERGRILGDIBOXS`@Uf@g@vAs@lBk@nAaBxCcCdCm@d@m@^i@Xs@Xq@Tm@JWD[D]FONSd@ATCPB`A@Z\\\\`APZNRVPXNZHZDXAXCZKt@[dAi@\\\\GZC\\\\?\\\\B\\\\FF@RH\\\\N\\\\TZXZ\\\\V^Vd@Rf@b@xATxAHp@HbBBpJCbLCbL?HeB?wD?aEC[@UDOJSRO\\\\IVMn@QzAYjBENEPIVUd@OXQ^Mb@Gb@Iz@Gj@Mn@WdA[fA[z@Sb@Ud@Ud@Wb@Y\\\\e@l@g@r@u@dAYZ]^g@`@_@\\\\WVU^Ur@Qf@]~AMh@Y`AIf@E^Af@AhAAzADnDAz@Cj@Gp@Kv@WzAk@rCUdAUnAEXC~@Ah@AZEd@Iv@Kr@WjB[dCMv@Ql@QZQRm@p@kCzCkAzA}C|Ei@r@S^[n@m@lAo@tA{AzC_AhB{@fBQXIFGB@LBd@DVxAfMRtAPx@HXDPJTHNV^hBzBvBrC`AhA|CfD'"
      ]
     },
     "execution_count": 9,
     "metadata": {},
     "output_type": "execute_result"
    }
   ],
   "source": [
    "route.geometry"
   ]
  },
  {
   "cell_type": "code",
   "execution_count": 10,
   "metadata": {},
   "outputs": [],
   "source": [
    "df_geoms = pd.read_csv(csv_path, names=['id', 'distance', 'duration', 'polyline_geom'])"
   ]
  },
  {
   "cell_type": "code",
   "execution_count": 11,
   "metadata": {},
   "outputs": [
    {
     "data": {
      "text/html": [
       "<div>\n",
       "<style scoped>\n",
       "    .dataframe tbody tr th:only-of-type {\n",
       "        vertical-align: middle;\n",
       "    }\n",
       "\n",
       "    .dataframe tbody tr th {\n",
       "        vertical-align: top;\n",
       "    }\n",
       "\n",
       "    .dataframe thead th {\n",
       "        text-align: right;\n",
       "    }\n",
       "</style>\n",
       "<table border=\"1\" class=\"dataframe\">\n",
       "  <thead>\n",
       "    <tr style=\"text-align: right;\">\n",
       "      <th></th>\n",
       "      <th>id</th>\n",
       "      <th>distance</th>\n",
       "      <th>duration</th>\n",
       "      <th>polyline_geom</th>\n",
       "    </tr>\n",
       "  </thead>\n",
       "  <tbody>\n",
       "    <tr>\n",
       "      <th>0</th>\n",
       "      <td>0</td>\n",
       "      <td>144.1</td>\n",
       "      <td>26.0</td>\n",
       "      <td>mhmdItgie@BpB@TB?b@xAn@|ATh@</td>\n",
       "    </tr>\n",
       "    <tr>\n",
       "      <th>1</th>\n",
       "      <td>1</td>\n",
       "      <td>46.4</td>\n",
       "      <td>5.4</td>\n",
       "      <td>ydmdI~rie@LJLDJ?d@W</td>\n",
       "    </tr>\n",
       "    <tr>\n",
       "      <th>2</th>\n",
       "      <td>2</td>\n",
       "      <td>112.7</td>\n",
       "      <td>13.4</td>\n",
       "      <td>kbmdIxrie@\\rAFTr@nCNf@</td>\n",
       "    </tr>\n",
       "    <tr>\n",
       "      <th>3</th>\n",
       "      <td>3</td>\n",
       "      <td>76.8</td>\n",
       "      <td>9.0</td>\n",
       "      <td>a_mdIz{ie@b@S`@SHM`@_A</td>\n",
       "    </tr>\n",
       "    <tr>\n",
       "      <th>4</th>\n",
       "      <td>4</td>\n",
       "      <td>465.9</td>\n",
       "      <td>41.9</td>\n",
       "      <td>o{ldIdxie@\\l@RZvA|Bl@`An@dAFXh@jEJ|ABr@DpB@hAC...</td>\n",
       "    </tr>\n",
       "  </tbody>\n",
       "</table>\n",
       "</div>"
      ],
      "text/plain": [
       "   id  distance  duration                                      polyline_geom\n",
       "0   0     144.1      26.0                       mhmdItgie@BpB@TB?b@xAn@|ATh@\n",
       "1   1      46.4       5.4                                ydmdI~rie@LJLDJ?d@W\n",
       "2   2     112.7      13.4                             kbmdIxrie@\\rAFTr@nCNf@\n",
       "3   3      76.8       9.0                             a_mdIz{ie@b@S`@SHM`@_A\n",
       "4   4     465.9      41.9  o{ldIdxie@\\l@RZvA|Bl@`An@dAFXh@jEJ|ABr@DpB@hAC..."
      ]
     },
     "execution_count": 11,
     "metadata": {},
     "output_type": "execute_result"
    }
   ],
   "source": [
    "df_geoms.head()"
   ]
  },
  {
   "cell_type": "code",
   "execution_count": null,
   "metadata": {},
   "outputs": [],
   "source": []
  }
 ],
 "metadata": {
  "kernelspec": {
   "display_name": "Python 3",
   "language": "python",
   "name": "python3"
  },
  "language_info": {
   "codemirror_mode": {
    "name": "ipython",
    "version": 3
   },
   "file_extension": ".py",
   "mimetype": "text/x-python",
   "name": "python",
   "nbconvert_exporter": "python",
   "pygments_lexer": "ipython3",
   "version": "3.6.7"
  }
 },
 "nbformat": 4,
 "nbformat_minor": 2
}
